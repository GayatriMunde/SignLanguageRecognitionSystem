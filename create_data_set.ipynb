{
 "cells": [
  {
   "cell_type": "code",
   "execution_count": 5,
   "metadata": {},
   "outputs": [],
   "source": [
    "import cv2\n",
    "import numpy as np\n",
    "import os"
   ]
  },
  {
   "cell_type": "code",
   "execution_count": null,
   "metadata": {},
   "outputs": [],
   "source": [
    "def make_dir(dir):\n",
    "    for i in range (0, 10):\n",
    "        os.makedirs(\"data/\" + dir + \"/\" + str(i))"
   ]
  },
  {
   "cell_type": "code",
   "execution_count": 7,
   "metadata": {},
   "outputs": [],
   "source": [
    "if not os.path.exists(\"data\"):\n",
    "    os.makedirs(\"data\")\n",
    "    os.makedirs(\"data/train\")\n",
    "    os.makedirs(\"data/test\")\n",
    "    make_dir(\"train\")\n",
    "    make_dir(\"test\")"
   ]
  },
  {
   "cell_type": "code",
   "execution_count": 6,
   "metadata": {},
   "outputs": [],
   "source": [
    "# Train or test \n",
    "mode = 'test'\n",
    "directory = 'data/'+mode+'/'\n",
    "\n",
    "cap = cv2.VideoCapture(0)\n",
    "\n",
    "while True:\n",
    "    _, frame = cap.read()\n",
    "    \n",
    "    frame = cv2.flip(frame, 1)\n",
    "    \n",
    "    \n",
    "    count = {'zero': len(os.listdir(directory+\"/0\")),\n",
    "             'one': len(os.listdir(directory+\"/1\")),\n",
    "             'two': len(os.listdir(directory+\"/2\")),\n",
    "             'three': len(os.listdir(directory+\"/3\")),\n",
    "             'four': len(os.listdir(directory+\"/4\")),\n",
    "             'five': len(os.listdir(directory+\"/5\")),\n",
    "             'Six': len(os.listdir(directory+\"/6\")),\n",
    "             'Seven': len(os.listdir(directory+\"/7\")),\n",
    "             'Eight': len(os.listdir(directory+\"/8\")),\n",
    "             'Nine': len(os.listdir(directory+\"/9\"))}\n",
    "    \n",
    "    # Printing the count in each set to the screen\n",
    "    cv2.putText(frame, \"MODE : \"+mode, (10, 50), cv2.FONT_HERSHEY_PLAIN, 1, (0,255,255), 1)\n",
    "    cv2.putText(frame, \"IMAGE COUNT\", (10, 100), cv2.FONT_HERSHEY_PLAIN, 1, (0,255,255), 1)\n",
    "    \n",
    "    for i in range(0, 10):\n",
    "        num = str(count.keys()[i])\n",
    "        cv2.putText(frame, num.upper() +str(count[num]), (10, 120), cv2.FONT_HERSHEY_PLAIN, 1, (0,255,255), 1)\n",
    "    \n",
    "\n",
    "    # Coordinates of the ROI\n",
    "    x1 = int(0.5*frame.shape[1])\n",
    "    y1 = 10\n",
    "    x2 = frame.shape[1]-10\n",
    "    y2 = int(0.5*frame.shape[1])\n",
    "\n",
    "\n",
    "    # Drawing the ROI\n",
    "    cv2.rectangle(frame, (x1-1, y1-1), (x2+1, y2+1), (255,0,0) ,1)\n",
    "\n",
    "\n",
    "    # Extracting the ROI\n",
    "    roi = frame[y1:y2, x1:x2]\n",
    "    roi = cv2.resize(roi, (256, 256)) \n",
    " \n",
    "    cv2.imshow(\"Frame\", frame)\n",
    "    \n",
    "   \n",
    "    roi = cv2.cvtColor(roi, cv2.COLOR_BGR2GRAY)\n",
    "    _, roi = cv2.threshold(roi, 120, 255, cv2.THRESH_BINARY)\n",
    "    cv2.imshow(\"ROI\", roi)\n",
    "    \n",
    "    interrupt = cv2.waitKey(10)\n",
    "    if interrupt & 0xFF == 27: # esc key\n",
    "        break\n",
    "\n",
    "    for i in range(0, 10):\n",
    "        if interrupt & 0xFF == ord(str(i)):\n",
    "            cv2.imwrite(directory+str(i)+'/'+str(count[count.keys()[i]])+'.jpg', roi)\n",
    "    \n",
    "cap.release()\n",
    "cv2.destroyAllWindows()"
   ]
  },
  {
   "cell_type": "code",
   "execution_count": null,
   "metadata": {},
   "outputs": [],
   "source": []
  }
 ],
 "metadata": {
  "kernelspec": {
   "display_name": "Python 3",
   "language": "python",
   "name": "python3"
  },
  "language_info": {
   "codemirror_mode": {
    "name": "ipython",
    "version": 3
   },
   "file_extension": ".py",
   "mimetype": "text/x-python",
   "name": "python",
   "nbconvert_exporter": "python",
   "pygments_lexer": "ipython3",
   "version": "3.7.9"
  }
 },
 "nbformat": 4,
 "nbformat_minor": 4
}
