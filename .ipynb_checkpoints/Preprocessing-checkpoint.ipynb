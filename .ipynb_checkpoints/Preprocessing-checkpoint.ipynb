{
 "cells": [
  {
   "cell_type": "code",
   "execution_count": 1,
   "metadata": {},
   "outputs": [],
   "source": [
    "import numpy as np\n",
    "import cv2\n",
    "minValue = 70\n",
    "def func(path):    \n",
    "    frame = cv2.imread(path)\n",
    "    \n",
    "    gray = cv2.cvtColor(frame, cv2.COLOR_BGR2GRAY)\n",
    "    blur = cv2.GaussianBlur(gray,(5,5),2)\n",
    "\n",
    "    th3 = cv2.adaptiveThreshold(blur,255,cv2.ADAPTIVE_THRESH_GAUSSIAN_C,cv2.THRESH_BINARY_INV,11,2)\n",
    "    ret, res = cv2.threshold(th3, minValue, 255, cv2.THRESH_BINARY_INV+cv2.THRESH_OTSU)\n",
    "    return res"
   ]
  },
  {
   "cell_type": "code",
   "execution_count": 2,
   "metadata": {},
   "outputs": [
    {
     "ename": "SyntaxError",
     "evalue": "(unicode error) 'unicodeescape' codec can't decode bytes in position 2-3: truncated \\UXXXXXXXX escape (<ipython-input-2-498260028014>, line 12)",
     "output_type": "error",
     "traceback": [
      "\u001b[1;36m  File \u001b[1;32m\"<ipython-input-2-498260028014>\"\u001b[1;36m, line \u001b[1;32m12\u001b[0m\n\u001b[1;33m    path=\"C:\\Users\\asus\\Desktop\\EDI-TY\\SignLanguageRecognitionSystem\\data\\train\"\u001b[0m\n\u001b[1;37m        ^\u001b[0m\n\u001b[1;31mSyntaxError\u001b[0m\u001b[1;31m:\u001b[0m (unicode error) 'unicodeescape' codec can't decode bytes in position 2-3: truncated \\UXXXXXXXX escape\n"
     ]
    }
   ],
   "source": [
    "import numpy as np\n",
    "import cv2\n",
    "import os\n",
    "import csv\n",
    "#from image_processing import func\n",
    "if not os.path.exists(\"data2\"):\n",
    "    os.makedirs(\"data2\")\n",
    "if not os.path.exists(\"data2/train\"):\n",
    "    os.makedirs(\"dataluv/train\")\n",
    "if not os.path.exists(\"data2/test\"):\n",
    "    os.makedirs(\"data2/test\")\n",
    "path=\"C:/Users/asus\\Desktop\\EDI-TY\\SignLanguageRecognitionSystem\\data\\train\"\n",
    "path1 = \"data2\"\n",
    "a=['label']\n",
    "\n",
    "for i in range(64*64):\n",
    "    a.append(\"pixel\"+str(i))\n",
    "    \n",
    "\n",
    "#outputLine = a.tolist()\n",
    "\n",
    "\n",
    "label=0\n",
    "var = 0\n",
    "c1 = 0\n",
    "c2 = 0\n",
    "\n",
    "for (dirpath,dirnames,filenames) in os.walk(path):\n",
    "    for dirname in dirnames:\n",
    "        print(dirname)\n",
    "        for(direcpath,direcnames,files) in os.walk(path+\"/\"+dirname):\n",
    "       \t    if not os.path.exists(path1+\"/train/\"+dirname):\n",
    "                os.makedirs(path1+\"/train/\"+dirname)\n",
    "            if not os.path.exists(path1+\"/test/\"+dirname):\n",
    "                os.makedirs(path1+\"/test/\"+dirname)\n",
    "            # num=0.75*len(files)\n",
    "            num = 100000000000000000\n",
    "            i=0\n",
    "            for file in files:\n",
    "                var+=1\n",
    "                actual_path=path+\"/\"+dirname+\"/\"+file\n",
    "                actual_path1=path1+\"/\"+\"train/\"+dirname+\"/\"+file\n",
    "                actual_path2=path1+\"/\"+\"test/\"+dirname+\"/\"+file\n",
    "                img = cv2.imread(actual_path, 0)\n",
    "                bw_image = func(actual_path)\n",
    "                if i<num:\n",
    "                    c1 += 1\n",
    "                    cv2.imwrite(actual_path1 , bw_image)\n",
    "                else:\n",
    "                    c2 += 1\n",
    "                    cv2.imwrite(actual_path2 , bw_image)\n",
    "                    \n",
    "                i=i+1\n",
    "                \n",
    "        label=label+1\n",
    "print(var)\n",
    "print(c1)\n",
    "print(c2)\n"
   ]
  },
  {
   "cell_type": "code",
   "execution_count": null,
   "metadata": {},
   "outputs": [],
   "source": []
  }
 ],
 "metadata": {
  "kernelspec": {
   "display_name": "Python 3",
   "language": "python",
   "name": "python3"
  },
  "language_info": {
   "codemirror_mode": {
    "name": "ipython",
    "version": 3
   },
   "file_extension": ".py",
   "mimetype": "text/x-python",
   "name": "python",
   "nbconvert_exporter": "python",
   "pygments_lexer": "ipython3",
   "version": "3.7.9"
  }
 },
 "nbformat": 4,
 "nbformat_minor": 4
}
