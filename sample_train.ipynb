{
 "cells": [
  {
   "cell_type": "code",
   "execution_count": 5,
   "metadata": {},
   "outputs": [],
   "source": [
    "import tensorflow as tf\n",
    "from keras.models import Sequential\n",
    "from keras.layers import Convolution2D\n",
    "from keras.layers import MaxPooling2D\n",
    "from keras.layers import Flatten\n",
    "from keras.layers import Dense, Dropout\n",
    "import os"
   ]
  },
  {
   "cell_type": "code",
   "execution_count": 6,
   "metadata": {},
   "outputs": [
    {
     "name": "stdout",
     "output_type": "stream",
     "text": [
      "Model: \"sequential_2\"\n",
      "_________________________________________________________________\n",
      "Layer (type)                 Output Shape              Param #   \n",
      "=================================================================\n",
      "conv2d_3 (Conv2D)            (None, 254, 254, 32)      320       \n",
      "_________________________________________________________________\n",
      "max_pooling2d_3 (MaxPooling2 (None, 127, 127, 32)      0         \n",
      "_________________________________________________________________\n",
      "conv2d_4 (Conv2D)            (None, 125, 125, 32)      9248      \n",
      "_________________________________________________________________\n",
      "max_pooling2d_4 (MaxPooling2 (None, 62, 62, 32)        0         \n",
      "_________________________________________________________________\n",
      "flatten_2 (Flatten)          (None, 123008)            0         \n",
      "_________________________________________________________________\n",
      "dense_7 (Dense)              (None, 128)               15745152  \n",
      "_________________________________________________________________\n",
      "dropout_5 (Dropout)          (None, 128)               0         \n",
      "_________________________________________________________________\n",
      "dense_8 (Dense)              (None, 112)               14448     \n",
      "_________________________________________________________________\n",
      "dropout_6 (Dropout)          (None, 112)               0         \n",
      "_________________________________________________________________\n",
      "dense_9 (Dense)              (None, 96)                10848     \n",
      "_________________________________________________________________\n",
      "dropout_7 (Dropout)          (None, 96)                0         \n",
      "_________________________________________________________________\n",
      "dense_10 (Dense)             (None, 80)                7760      \n",
      "_________________________________________________________________\n",
      "dropout_8 (Dropout)          (None, 80)                0         \n",
      "_________________________________________________________________\n",
      "dense_11 (Dense)             (None, 64)                5184      \n",
      "_________________________________________________________________\n",
      "dense_12 (Dense)             (None, 36)                2340      \n",
      "=================================================================\n",
      "Total params: 15,795,300\n",
      "Trainable params: 15,795,300\n",
      "Non-trainable params: 0\n",
      "_________________________________________________________________\n"
     ]
    }
   ],
   "source": [
    "sz = 256\n",
    "# Step 1 - Building the CNN\n",
    "\n",
    "# Initializing the CNN\n",
    "classifier = Sequential()\n",
    "\n",
    "classifier.add(Convolution2D(32, (3, 3), input_shape=(sz, sz, 1), activation='relu'))\n",
    "classifier.add(MaxPooling2D(pool_size=(2, 2)))\n",
    "classifier.add(Convolution2D(32, (3, 3), activation='relu'))\n",
    "classifier.add(MaxPooling2D(pool_size=(2, 2)))\n",
    "classifier.add(Flatten())\n",
    "\n",
    "# Adding a fully connected layer\n",
    "classifier.add(Dense(units=128, activation='relu'))\n",
    "classifier.add(Dropout(0.20))\n",
    "classifier.add(Dense(units=112, activation='relu'))\n",
    "classifier.add(Dropout(0.10))\n",
    "classifier.add(Dense(units=96, activation='relu'))\n",
    "classifier.add(Dropout(0.10))\n",
    "classifier.add(Dense(units=80, activation='relu'))\n",
    "classifier.add(Dropout(0.10))\n",
    "classifier.add(Dense(units=64, activation='relu'))\n",
    "classifier.add(Dense(units=36, activation='softmax')) # softmax for more than 2\n",
    "\n",
    "# Compiling the CNN\n",
    "classifier.compile(optimizer='adam', loss='categorical_crossentropy', metrics=['accuracy'])\n",
    "\n",
    "classifier.summary()"
   ]
  },
  {
   "cell_type": "code",
   "execution_count": 7,
   "metadata": {},
   "outputs": [
    {
     "name": "stdout",
     "output_type": "stream",
     "text": [
      "Found 2738 images belonging to 36 classes.\n",
      "Found 1082 images belonging to 36 classes.\n"
     ]
    }
   ],
   "source": [
    "from keras.preprocessing.image import ImageDataGenerator\n",
    "\n",
    "train_datagen = ImageDataGenerator(\n",
    "        rescale=1./255,\n",
    "        shear_range=0.2,\n",
    "        zoom_range=0.2,\n",
    "        horizontal_flip=True)\n",
    "\n",
    "test_datagen = ImageDataGenerator(rescale=1./255)\n",
    "\n",
    "training_set = train_datagen.flow_from_directory('Dataset/train',\n",
    "                                                 target_size=(sz, sz),\n",
    "                                                 batch_size=10,\n",
    "                                                 color_mode='grayscale',\n",
    "                                                 class_mode='categorical')\n",
    "\n",
    "test_set = test_datagen.flow_from_directory('Dataset/test',\n",
    "                                            target_size=(sz , sz),\n",
    "                                            batch_size=10,\n",
    "                                            color_mode='grayscale',\n",
    "                                            class_mode='categorical')"
   ]
  },
  {
   "cell_type": "code",
   "execution_count": 8,
   "metadata": {},
   "outputs": [
    {
     "name": "stdout",
     "output_type": "stream",
     "text": [
      "Epoch 1/10\n",
      "273/273 [==============================] - 200s 731ms/step - loss: 3.0324 - accuracy: 0.1697 - val_loss: 3.2892 - val_accuracy: 0.2407\n",
      "Epoch 2/10\n",
      "273/273 [==============================] - 159s 584ms/step - loss: 1.2007 - accuracy: 0.6169 - val_loss: 3.7639 - val_accuracy: 0.2882\n",
      "Epoch 3/10\n",
      "273/273 [==============================] - 162s 592ms/step - loss: 0.6314 - accuracy: 0.8101 - val_loss: 4.0552 - val_accuracy: 0.3265\n",
      "Epoch 4/10\n",
      "273/273 [==============================] - 160s 587ms/step - loss: 0.4516 - accuracy: 0.8618 - val_loss: 4.6989 - val_accuracy: 0.3274\n",
      "Epoch 5/10\n",
      "273/273 [==============================] - 160s 587ms/step - loss: 0.3051 - accuracy: 0.9058 - val_loss: 4.1854 - val_accuracy: 0.3013\n",
      "Epoch 6/10\n",
      "273/273 [==============================] - 160s 584ms/step - loss: 0.2762 - accuracy: 0.9157 - val_loss: 5.1927 - val_accuracy: 0.3144\n",
      "Epoch 7/10\n",
      "273/273 [==============================] - 162s 594ms/step - loss: 0.2043 - accuracy: 0.9395 - val_loss: 2.3884 - val_accuracy: 0.3349\n",
      "Epoch 8/10\n",
      "273/273 [==============================] - 176s 643ms/step - loss: 0.1722 - accuracy: 0.9443 - val_loss: 1.8638 - val_accuracy: 0.3563\n",
      "Epoch 9/10\n",
      "273/273 [==============================] - 172s 630ms/step - loss: 0.1357 - accuracy: 0.9604 - val_loss: 4.5604 - val_accuracy: 0.3274\n",
      "Epoch 10/10\n",
      "273/273 [==============================] - 172s 631ms/step - loss: 0.1617 - accuracy: 0.9582 - val_loss: 3.9162 - val_accuracy: 0.3265\n",
      "Saved\n",
      "273\n",
      "108\n"
     ]
    }
   ],
   "source": [
    "classifier.fit_generator(\n",
    "        training_set,\n",
    "        steps_per_epoch=training_set.n//training_set.batch_size, # No of images in training set/batch size\n",
    "        epochs=10,\n",
    "        validation_data=test_set,\n",
    "        validation_steps=test_set.n//test_set.batch_size)# No of images in test set/batch size\n",
    "\n",
    "classifier.save(\"sample_model.h5\")\n",
    "print('Saved')\n",
    "print(training_set.n//training_set.batch_size)\n",
    "print(test_set.n//test_set.batch_size)"
   ]
  },
  {
   "cell_type": "code",
   "execution_count": null,
   "metadata": {},
   "outputs": [],
   "source": []
  }
 ],
 "metadata": {
  "kernelspec": {
   "display_name": "Python 3",
   "language": "python",
   "name": "python3"
  },
  "language_info": {
   "codemirror_mode": {
    "name": "ipython",
    "version": 3
   },
   "file_extension": ".py",
   "mimetype": "text/x-python",
   "name": "python",
   "nbconvert_exporter": "python",
   "pygments_lexer": "ipython3",
   "version": "3.7.9"
  }
 },
 "nbformat": 4,
 "nbformat_minor": 4
}
