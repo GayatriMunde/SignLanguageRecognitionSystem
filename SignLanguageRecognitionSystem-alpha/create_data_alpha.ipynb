{
 "cells": [
  {
   "cell_type": "code",
   "execution_count": 56,
   "metadata": {},
   "outputs": [],
   "source": [
    "import cv2\n",
    "import numpy as np\n",
    "import os\n",
    "import string"
   ]
  },
  {
   "cell_type": "code",
   "execution_count": 57,
   "metadata": {},
   "outputs": [],
   "source": [
    "if not os.path.exists(\"data_alpha\"):\n",
    "    os.makedirs(\"data_alpha\")\n",
    "if not os.path.exists(\"data_alpha/train\"):\n",
    "    os.makedirs(\"data_alpha/train\")\n",
    "if not os.path.exists(\"data_alpha/test\"):\n",
    "    os.makedirs(\"data_alpha/test\")"
   ]
  },
  {
   "cell_type": "code",
   "execution_count": 58,
   "metadata": {},
   "outputs": [],
   "source": [
    "for i in string.ascii_uppercase:\n",
    "    if not os.path.exists(\"data_alpha/train/\" + i):\n",
    "        os.makedirs(\"data_alpha/train/\"+i)\n",
    "    if not os.path.exists(\"data_alpha/test/\" + i):\n",
    "        os.makedirs(\"data_alpha/test/\"+i)    "
   ]
  },
  {
   "cell_type": "code",
   "execution_count": 59,
   "metadata": {},
   "outputs": [],
   "source": [
    "mode = 'train'\n",
    "directory = 'data_alpha/'+str(mode)+'/'\n",
    "minValue = 70\n",
    "\n",
    "cap = cv2.VideoCapture(0)\n",
    "interrupt = -1  "
   ]
  },
  {
   "cell_type": "code",
   "execution_count": 60,
   "metadata": {},
   "outputs": [],
   "source": [
    "while True:\n",
    "    _, frame = cap.read()\n",
    "    frame = cv2.flip(frame, 1)\n",
    "    lower_alpha = list(string.ascii_lowercase)\n",
    "    count = dict()\n",
    "\n",
    "    for alpha in lower_alpha:\n",
    "        count[alpha] = len(os.listdir(directory+\"/\"+alpha.upper()))\n",
    "\n",
    "    for alpha in lower_alpha:\n",
    "        cv2.putText(frame, alpha+\" : \"+str(count[alpha]), (10, 100), cv2.FONT_HERSHEY_PLAIN, 1, (0,255,255), 1)\n",
    "    \n",
    "    x1 = int(0.5*frame.shape[1])\n",
    "    y1 = 10\n",
    "    x2 = frame.shape[1]-10\n",
    "    y2 = int(0.5*frame.shape[1])\n",
    "    \n",
    "    cv2.rectangle(frame, (x1-1, y1-1), (x2+1, y2+1), (255,0,0) ,1)\n",
    "    # Extracting the ROI\n",
    "    roi = frame[y1:y2, x1:x2]\n",
    "    roi = cv2.resize(roi, (256, 256)) \n",
    " \n",
    "    cv2.imshow(\"Frame\", frame)\n",
    "    \n",
    "   \n",
    "    roi = cv2.cvtColor(roi, cv2.COLOR_BGR2GRAY)\n",
    "    _, roi = cv2.threshold(roi, 140, 255, cv2.THRESH_BINARY)\n",
    "    cv2.imshow(\"ROI\", roi)\n",
    "    \n",
    "    interrupt = cv2.waitKey(10)\n",
    "    if interrupt & 0xFF == 27: # esc key\n",
    "        break\n",
    "\n",
    "    for alpha in lower_alpha:\n",
    "        if interrupt & 0xFF == ord(alpha):\n",
    "            cv2.imwrite(directory+ alpha.upper()+'/'+str(count[alpha])+'.jpg', roi)           "
   ]
  },
  {
   "cell_type": "code",
   "execution_count": 61,
   "metadata": {},
   "outputs": [],
   "source": [
    "cap.release()\n",
    "cv2.destroyAllWindows()"
   ]
  },
  {
   "cell_type": "code",
   "execution_count": null,
   "metadata": {},
   "outputs": [],
   "source": []
  }
 ],
 "metadata": {
  "kernelspec": {
   "display_name": "Python 3",
   "language": "python",
   "name": "python3"
  },
  "language_info": {
   "codemirror_mode": {
    "name": "ipython",
    "version": 3
   },
   "file_extension": ".py",
   "mimetype": "text/x-python",
   "name": "python",
   "nbconvert_exporter": "python",
   "pygments_lexer": "ipython3",
   "version": "3.8.8"
  }
 },
 "nbformat": 4,
 "nbformat_minor": 2
}
